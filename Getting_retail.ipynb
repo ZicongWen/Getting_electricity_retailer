{
 "cells": [
  {
   "cell_type": "code",
   "execution_count": 2,
   "id": "35e19f02",
   "metadata": {},
   "outputs": [],
   "source": [
    "import requests\n",
    "import urllib3\n",
    "urllib3.disable_warnings()\n",
    "from bs4 import BeautifulSoup\n",
    "from urllib.parse import urlencode\n",
    "import pandas as pd"
   ]
  },
  {
   "cell_type": "code",
   "execution_count": 3,
   "id": "b8cf0d89",
   "metadata": {},
   "outputs": [],
   "source": [
    "def preliminary_create_website_list(lst_title):\n",
    "    website_list = []\n",
    "\n",
    "    for i in lst_title:\n",
    "        res = \"\"\n",
    "        i = i.replace('Pty Ltd', '').replace('- authorised electricity retailer', '').lower().strip().replace(' ', '')\n",
    "        res = i + '.com.au'\n",
    "        website_list.append(res)\n",
    "\n",
    "    return website_list\n"
   ]
  },
  {
   "cell_type": "code",
   "execution_count": 3,
   "id": "97e68284",
   "metadata": {},
   "outputs": [],
   "source": [
    "def preliminary_conclude(ori_title_list, new_title_list, df_ori, df):\n",
    "    new_added = []\n",
    "    old_gone = []\n",
    "\n",
    "    for i in ori_title_list:\n",
    "        if i not in new_title_list and i != 'Title':\n",
    "            old_gone.append(i)\n",
    "    for i in new_title_list:\n",
    "        if i not in ori_title_list:\n",
    "            new_added.append(i)\n",
    "\n",
    "    print('新增:', \",\\n \".join(new_added), f'\\n 一共{len(new_added)}家')\n",
    "    print('减少:', \",\\n \".join(old_gone), f'\\n 一共{len(old_gone)}家')"
   ]
  },
  {
   "cell_type": "code",
   "execution_count": 58,
   "id": "bcc7b128",
   "metadata": {},
   "outputs": [],
   "source": [
    "def access_URL(url = 'https://www.aer.gov.au/retail-markets/authorisations/public-register-of-authorised-retailers-authorisation-applications?'):\n",
    "    df = pd.DataFrame()\n",
    "\n",
    "    url_list = []\n",
    "    for i in range(0,10):\n",
    "        headers = {\n",
    "            'User-Agent':'Mozilla/5.0 (Windows NT 10.0; Win64; x64) ' \\\n",
    "                            'AppleWebKit/537.36 (KHTML, like Gecko) Chrome/80.0.3987.163 Safari/537.36'\n",
    "        }\n",
    "        paras = {\n",
    "            'page':i\n",
    "        }\n",
    "\n",
    "        #1.url\n",
    "        url1 = url + urlencode(paras)\n",
    "        url_list.append(url1)\n",
    "\n",
    "    for i in url_list:\n",
    "        temp0 = pd.read_html(i)\n",
    "        temp = pd.DataFrame(temp0[0])\n",
    "        df = df.append(temp)\n",
    "    return df"
   ]
  },
  {
   "cell_type": "code",
   "execution_count": 59,
   "id": "3b4df403",
   "metadata": {},
   "outputs": [],
   "source": [
    "df = access_URL()"
   ]
  },
  {
   "cell_type": "code",
   "execution_count": 64,
   "id": "b6aae1fd",
   "metadata": {},
   "outputs": [
    {
     "name": "stdout",
     "output_type": "stream",
     "text": [
      "从 AER 中下载 Public register of authorised retailers & authorisation applications, 一共 181 家, 其中有16的 status 为 historical\n"
     ]
    }
   ],
   "source": [
    "df2 = df.loc[(df.Status == \"Historical\") & (df.Sector != 'Gas')]\n",
    "df1 = df.loc[(df.Sector == 'Electricity') & ((df.Status == 'Current') | (df.Status == 'Open'))]\n",
    "df3 = df1.append(df2, ignore_index = True)\n",
    "\n",
    "df_ori = pd.read_excel('澳大利亚电力零售商（已授权）.xlsx')\n",
    "\n",
    "ori_title_list = list(df_ori['Title'])\n",
    "new_title_list = list(df3['Title'])\n",
    "\n",
    "print(f'从 AER 中下载 Public register of authorised retailers & authorisation applications, 一共 {len(df) - 1} 家, 其中有{len(df2)}的 status 为 historical')\n",
    "website_list = preliminary_create_website_list(new_title_list)\n",
    "\n",
    "df3['Website'] = pd.DataFrame(website_list)\n",
    "\n",
    "df3.to_excel('preliminary_res.xlsx')\n"
   ]
  },
  {
   "cell_type": "code",
   "execution_count": 24,
   "id": "0248af1f",
   "metadata": {},
   "outputs": [
    {
     "name": "stdout",
     "output_type": "stream",
     "text": [
      "新增: ARC Utilities Management Pty Ltd - authorised electricity retailer,\n",
      " Accel Energy Retail Pty Ltd - Application for electricity retailer authorisation,\n",
      " Tilt Renewables Retail Pty Ltd retailer electricity authorisation,\n",
      " ERC Energy Pty Ltd - Application for electricity retailer authorisation,\n",
      " Ampol Energy (Retail) Pty Ltd - Application for electricity retailer authorisation,\n",
      " iGENO Pty Limited - application for electricity retailer authorisation,\n",
      " Mojo Power East (trading as People Energy) - authorised electricity retailer,\n",
      " 3P Energy Pty Ltd - application for electricity retailer authorisation - withdrawn,\n",
      " Rush Energy Pty Ltd - application for electricity retailer authorisation - withdrawn,\n",
      " CO Zero - authorised electricity retailer - revoked,\n",
      " Urth Energy Pty Ltd - authorised electricity retailer - revoked,\n",
      " Ultium Energy Pty Ltd - application for electricity retailer authorisation,\n",
      " GoEnergy - authorised electricity retailer - revoked,\n",
      " Australian Power and Gas - authorised electricity retailer,\n",
      " Dodo Power & Gas - authorised electricity retailer,\n",
      " Click Energy Pty Ltd - authorised electricity retailer,\n",
      " CleanTech Energy Pty Ltd - application for electricity retailer authorisation - withdrawn,\n",
      " Upower Pty Ltd - application for electricity retailer authorisation - withdrawn,\n",
      " Energy On Pty Ltd - application for electricity retailer authorisation - withdrawn,\n",
      " WINenergy Retail Pty Ltd application for electricity retailer authorisation - withdrawn,\n",
      " Power Club Limited - Application for electricity retailer authorisation - withdrawn \n",
      " 一共21家\n",
      "减少: People Energy - authorised electricity retailer \n",
      " 一共1家\n"
     ]
    }
   ],
   "source": [
    "# import pandas as pd\n",
    "df_new = pd.read_excel('澳大利亚电力零售商（已授权）1.xlsx')\n",
    "df_ori = pd.read_excel('澳大利亚电力零售商（已授权）.xlsx')\n",
    "ori_title_list = list(df_ori['Title'])\n",
    "new_title_list = list(df_new['Title'])\n",
    "preliminary_conclude(ori_title_list, new_title_list, df_ori, df_new)\n"
   ]
  },
  {
   "cell_type": "code",
   "execution_count": null,
   "id": "7a65fd77",
   "metadata": {},
   "outputs": [],
   "source": []
  }
 ],
 "metadata": {
  "kernelspec": {
   "display_name": "Python 3 (ipykernel)",
   "language": "python",
   "name": "python3"
  },
  "language_info": {
   "codemirror_mode": {
    "name": "ipython",
    "version": 3
   },
   "file_extension": ".py",
   "mimetype": "text/x-python",
   "name": "python",
   "nbconvert_exporter": "python",
   "pygments_lexer": "ipython3",
   "version": "3.9.7"
  },
  "varInspector": {
   "cols": {
    "lenName": 16,
    "lenType": 16,
    "lenVar": 40
   },
   "kernels_config": {
    "python": {
     "delete_cmd_postfix": "",
     "delete_cmd_prefix": "del ",
     "library": "var_list.py",
     "varRefreshCmd": "print(var_dic_list())"
    },
    "r": {
     "delete_cmd_postfix": ") ",
     "delete_cmd_prefix": "rm(",
     "library": "var_list.r",
     "varRefreshCmd": "cat(var_dic_list()) "
    }
   },
   "position": {
    "height": "144.852px",
    "left": "1089px",
    "right": "20px",
    "top": "121px",
    "width": "350px"
   },
   "types_to_exclude": [
    "module",
    "function",
    "builtin_function_or_method",
    "instance",
    "_Feature"
   ],
   "window_display": false
  }
 },
 "nbformat": 4,
 "nbformat_minor": 5
}
